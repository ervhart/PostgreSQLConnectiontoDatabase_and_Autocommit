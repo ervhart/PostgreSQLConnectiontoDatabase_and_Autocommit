{
 "cells": [
  {
   "cell_type": "markdown",
   "id": "f0c64b0f",
   "metadata": {},
   "source": [
    "# PostgreSQL and AutoCommits"
   ]
  },
  {
   "cell_type": "markdown",
   "id": "9551ab86",
   "metadata": {},
   "source": [
    "# Installation of necessary tools"
   ]
  },
  {
   "cell_type": "code",
   "execution_count": 1,
   "id": "060144c3",
   "metadata": {},
   "outputs": [
    {
     "name": "stdout",
     "output_type": "stream",
     "text": [
      "Collecting ipython-sql\n",
      "  Downloading ipython_sql-0.4.0-py3-none-any.whl (19 kB)\n",
      "Requirement already satisfied: six in c:\\users\\moade\\anaconda3\\envs\\rstudio\\lib\\site-packages (from ipython-sql) (1.16.0)\n",
      "Collecting prettytable<1\n",
      "  Downloading prettytable-0.7.2.zip (28 kB)\n",
      "Requirement already satisfied: ipython>=1.0 in c:\\users\\moade\\anaconda3\\envs\\rstudio\\lib\\site-packages (from ipython-sql) (7.27.0)\n",
      "Collecting sqlalchemy>=0.6.7\n",
      "  Downloading SQLAlchemy-1.4.25-cp37-cp37m-win_amd64.whl (1.5 MB)\n",
      "Requirement already satisfied: ipython-genutils>=0.1.0 in c:\\users\\moade\\anaconda3\\envs\\rstudio\\lib\\site-packages (from ipython-sql) (0.2.0)\n",
      "Collecting sqlparse\n",
      "  Downloading sqlparse-0.4.2-py3-none-any.whl (42 kB)\n",
      "Requirement already satisfied: pygments in c:\\users\\moade\\anaconda3\\envs\\rstudio\\lib\\site-packages (from ipython>=1.0->ipython-sql) (2.10.0)\n",
      "Requirement already satisfied: matplotlib-inline in c:\\users\\moade\\anaconda3\\envs\\rstudio\\lib\\site-packages (from ipython>=1.0->ipython-sql) (0.1.2)\n",
      "Requirement already satisfied: colorama in c:\\users\\moade\\anaconda3\\envs\\rstudio\\lib\\site-packages (from ipython>=1.0->ipython-sql) (0.4.4)\n",
      "Requirement already satisfied: pickleshare in c:\\users\\moade\\anaconda3\\envs\\rstudio\\lib\\site-packages (from ipython>=1.0->ipython-sql) (0.7.5)\n",
      "Requirement already satisfied: setuptools>=18.5 in c:\\users\\moade\\anaconda3\\envs\\rstudio\\lib\\site-packages (from ipython>=1.0->ipython-sql) (58.0.4)\n",
      "Requirement already satisfied: decorator in c:\\users\\moade\\anaconda3\\envs\\rstudio\\lib\\site-packages (from ipython>=1.0->ipython-sql) (5.1.0)\n",
      "Requirement already satisfied: jedi>=0.16 in c:\\users\\moade\\anaconda3\\envs\\rstudio\\lib\\site-packages (from ipython>=1.0->ipython-sql) (0.18.0)\n",
      "Requirement already satisfied: backcall in c:\\users\\moade\\anaconda3\\envs\\rstudio\\lib\\site-packages (from ipython>=1.0->ipython-sql) (0.2.0)\n",
      "Requirement already satisfied: traitlets>=4.2 in c:\\users\\moade\\anaconda3\\envs\\rstudio\\lib\\site-packages (from ipython>=1.0->ipython-sql) (5.1.0)\n",
      "Requirement already satisfied: prompt-toolkit!=3.0.0,!=3.0.1,<3.1.0,>=2.0.0 in c:\\users\\moade\\anaconda3\\envs\\rstudio\\lib\\site-packages (from ipython>=1.0->ipython-sql) (3.0.20)\n",
      "Requirement already satisfied: parso<0.9.0,>=0.8.0 in c:\\users\\moade\\anaconda3\\envs\\rstudio\\lib\\site-packages (from jedi>=0.16->ipython>=1.0->ipython-sql) (0.8.2)\n",
      "Requirement already satisfied: wcwidth in c:\\users\\moade\\anaconda3\\envs\\rstudio\\lib\\site-packages (from prompt-toolkit!=3.0.0,!=3.0.1,<3.1.0,>=2.0.0->ipython>=1.0->ipython-sql) (0.2.5)\n",
      "Collecting greenlet!=0.4.17\n",
      "  Downloading greenlet-1.1.2-cp37-cp37m-win_amd64.whl (101 kB)\n",
      "Requirement already satisfied: importlib-metadata in c:\\users\\moade\\anaconda3\\envs\\rstudio\\lib\\site-packages (from sqlalchemy>=0.6.7->ipython-sql) (4.8.1)\n",
      "Requirement already satisfied: typing-extensions>=3.6.4 in c:\\users\\moade\\anaconda3\\envs\\rstudio\\lib\\site-packages (from importlib-metadata->sqlalchemy>=0.6.7->ipython-sql) (3.10.0.2)\n",
      "Requirement already satisfied: zipp>=0.5 in c:\\users\\moade\\anaconda3\\envs\\rstudio\\lib\\site-packages (from importlib-metadata->sqlalchemy>=0.6.7->ipython-sql) (3.5.0)\n",
      "Building wheels for collected packages: prettytable\n",
      "  Building wheel for prettytable (setup.py): started\n",
      "  Building wheel for prettytable (setup.py): finished with status 'done'\n",
      "  Created wheel for prettytable: filename=prettytable-0.7.2-py3-none-any.whl size=13714 sha256=12634b8c984cd7fcd504a281e27e32cee059c6e7d503b7e328ab6699259d6801\n",
      "  Stored in directory: c:\\users\\moade\\appdata\\local\\pip\\cache\\wheels\\b2\\7f\\f6\\f180315b584f00445045ff1699b550fa895d09471337ce21c6\n",
      "Successfully built prettytable\n",
      "Installing collected packages: greenlet, sqlparse, sqlalchemy, prettytable, ipython-sql\n",
      "Successfully installed greenlet-1.1.2 ipython-sql-0.4.0 prettytable-0.7.2 sqlalchemy-1.4.25 sqlparse-0.4.2\n",
      "Note: you may need to restart the kernel to use updated packages.\n"
     ]
    }
   ],
   "source": [
    "pip install ipython-sql"
   ]
  },
  {
   "cell_type": "code",
   "execution_count": 2,
   "id": "9f414f1b",
   "metadata": {},
   "outputs": [
    {
     "name": "stdout",
     "output_type": "stream",
     "text": [
      "Requirement already satisfied: sqlalchemy in c:\\users\\moade\\anaconda3\\envs\\rstudio\\lib\\site-packages (1.4.25)\n",
      "Requirement already satisfied: greenlet!=0.4.17 in c:\\users\\moade\\anaconda3\\envs\\rstudio\\lib\\site-packages (from sqlalchemy) (1.1.2)\n",
      "Requirement already satisfied: importlib-metadata in c:\\users\\moade\\anaconda3\\envs\\rstudio\\lib\\site-packages (from sqlalchemy) (4.8.1)\n",
      "Requirement already satisfied: zipp>=0.5 in c:\\users\\moade\\anaconda3\\envs\\rstudio\\lib\\site-packages (from importlib-metadata->sqlalchemy) (3.5.0)\n",
      "Requirement already satisfied: typing-extensions>=3.6.4 in c:\\users\\moade\\anaconda3\\envs\\rstudio\\lib\\site-packages (from importlib-metadata->sqlalchemy) (3.10.0.2)\n",
      "Note: you may need to restart the kernel to use updated packages.\n"
     ]
    }
   ],
   "source": [
    "pip install sqlalchemy"
   ]
  },
  {
   "cell_type": "code",
   "execution_count": 3,
   "id": "1e4a0353",
   "metadata": {},
   "outputs": [
    {
     "name": "stdout",
     "output_type": "stream",
     "text": [
      "Collecting psycopg2\n",
      "  Downloading psycopg2-2.9.1-cp37-cp37m-win_amd64.whl (1.1 MB)\n",
      "Installing collected packages: psycopg2\n",
      "Successfully installed psycopg2-2.9.1\n",
      "Note: you may need to restart the kernel to use updated packages.\n"
     ]
    }
   ],
   "source": [
    "pip install psycopg2"
   ]
  },
  {
   "cell_type": "markdown",
   "id": "e0a85e74",
   "metadata": {},
   "source": [
    "# Importing the library to connect to PostgreSQL Database"
   ]
  },
  {
   "cell_type": "code",
   "execution_count": 4,
   "id": "08a4e35f",
   "metadata": {},
   "outputs": [],
   "source": [
    "import psycopg2"
   ]
  },
  {
   "cell_type": "markdown",
   "id": "9b0d58fd",
   "metadata": {},
   "source": [
    "# Making connection to the Database"
   ]
  },
  {
   "cell_type": "code",
   "execution_count": 5,
   "id": "47453429",
   "metadata": {},
   "outputs": [],
   "source": [
    "conn = psycopg2.connect(\"host=localhost dbname=postgres user=postgres password=123456\")"
   ]
  },
  {
   "cell_type": "markdown",
   "id": "1c45a263",
   "metadata": {},
   "source": [
    "# Use the connection to get a cursor that will be used to execute queries"
   ]
  },
  {
   "cell_type": "code",
   "execution_count": 6,
   "id": "b9369570",
   "metadata": {},
   "outputs": [],
   "source": [
    "cur = conn.cursor()"
   ]
  },
  {
   "cell_type": "markdown",
   "id": "d71d8c71",
   "metadata": {},
   "source": [
    "# Error occurs, but it was to be expected because table has not been created as yet. To fix the error, create the table."
   ]
  },
  {
   "cell_type": "code",
   "execution_count": 7,
   "id": "63d8fd99",
   "metadata": {},
   "outputs": [
    {
     "ename": "UndefinedTable",
     "evalue": "relation \"test\" does not exist\nLINE 1: select * from test\n                      ^\n",
     "output_type": "error",
     "traceback": [
      "\u001b[1;31m---------------------------------------------------------------------------\u001b[0m",
      "\u001b[1;31mUndefinedTable\u001b[0m                            Traceback (most recent call last)",
      "\u001b[1;32m~\\AppData\\Local\\Temp/ipykernel_8040/2523162425.py\u001b[0m in \u001b[0;36m<module>\u001b[1;34m\u001b[0m\n\u001b[1;32m----> 1\u001b[1;33m \u001b[0mcur\u001b[0m\u001b[1;33m.\u001b[0m\u001b[0mexecute\u001b[0m\u001b[1;33m(\u001b[0m\u001b[1;34m\"select * from test\"\u001b[0m\u001b[1;33m)\u001b[0m\u001b[1;33m\u001b[0m\u001b[1;33m\u001b[0m\u001b[0m\n\u001b[0m",
      "\u001b[1;31mUndefinedTable\u001b[0m: relation \"test\" does not exist\nLINE 1: select * from test\n                      ^\n"
     ]
    }
   ],
   "source": [
    "cur.execute(\"select * from test\")"
   ]
  },
  {
   "cell_type": "markdown",
   "id": "5b9f16a3",
   "metadata": {},
   "source": [
    "# Error indicates we cannot execute this query. Since we have not committed the transaction and had an error in the transaction block, we are blocked until we restart the connection"
   ]
  },
  {
   "cell_type": "code",
   "execution_count": 8,
   "id": "7bfcce36",
   "metadata": {},
   "outputs": [
    {
     "ename": "InFailedSqlTransaction",
     "evalue": "current transaction is aborted, commands ignored until end of transaction block\n",
     "output_type": "error",
     "traceback": [
      "\u001b[1;31m---------------------------------------------------------------------------\u001b[0m",
      "\u001b[1;31mInFailedSqlTransaction\u001b[0m                    Traceback (most recent call last)",
      "\u001b[1;32m~\\AppData\\Local\\Temp/ipykernel_8040/436899623.py\u001b[0m in \u001b[0;36m<module>\u001b[1;34m\u001b[0m\n\u001b[1;32m----> 1\u001b[1;33m \u001b[0mcur\u001b[0m\u001b[1;33m.\u001b[0m\u001b[0mexecute\u001b[0m\u001b[1;33m(\u001b[0m\u001b[1;34m\"CREATE TABLE test (col1 int, col2 int, col3 int);\"\u001b[0m\u001b[1;33m)\u001b[0m\u001b[1;33m\u001b[0m\u001b[1;33m\u001b[0m\u001b[0m\n\u001b[0m",
      "\u001b[1;31mInFailedSqlTransaction\u001b[0m: current transaction is aborted, commands ignored until end of transaction block\n"
     ]
    }
   ],
   "source": [
    "cur.execute(\"CREATE TABLE test (col1 int, col2 int, col3 int);\")"
   ]
  },
  {
   "cell_type": "markdown",
   "id": "0e49dc44",
   "metadata": {},
   "source": [
    "# Reconnect to database"
   ]
  },
  {
   "cell_type": "code",
   "execution_count": 9,
   "id": "8693321a",
   "metadata": {},
   "outputs": [],
   "source": [
    "conn = psycopg2.connect(\"host=localhost dbname=postgres user=postgres password=123456\")\n",
    "cur = conn.cursor()"
   ]
  },
  {
   "cell_type": "markdown",
   "id": "2052bf52",
   "metadata": {},
   "source": [
    "# Instead of worrying about commiting each transaction or getting a strange error when we hit something unexpected, let's set autocommit to true"
   ]
  },
  {
   "cell_type": "code",
   "execution_count": 10,
   "id": "30aab82f",
   "metadata": {},
   "outputs": [],
   "source": [
    "conn.set_session(autocommit=True)"
   ]
  },
  {
   "cell_type": "markdown",
   "id": "4926ed55",
   "metadata": {},
   "source": [
    "# Expected error, do you know why?"
   ]
  },
  {
   "cell_type": "code",
   "execution_count": 11,
   "id": "16fd18e6",
   "metadata": {},
   "outputs": [
    {
     "ename": "UndefinedTable",
     "evalue": "relation \"test\" does not exist\nLINE 1: select * from test\n                      ^\n",
     "output_type": "error",
     "traceback": [
      "\u001b[1;31m---------------------------------------------------------------------------\u001b[0m",
      "\u001b[1;31mUndefinedTable\u001b[0m                            Traceback (most recent call last)",
      "\u001b[1;32m~\\AppData\\Local\\Temp/ipykernel_8040/2523162425.py\u001b[0m in \u001b[0;36m<module>\u001b[1;34m\u001b[0m\n\u001b[1;32m----> 1\u001b[1;33m \u001b[0mcur\u001b[0m\u001b[1;33m.\u001b[0m\u001b[0mexecute\u001b[0m\u001b[1;33m(\u001b[0m\u001b[1;34m\"select * from test\"\u001b[0m\u001b[1;33m)\u001b[0m\u001b[1;33m\u001b[0m\u001b[1;33m\u001b[0m\u001b[0m\n\u001b[0m",
      "\u001b[1;31mUndefinedTable\u001b[0m: relation \"test\" does not exist\nLINE 1: select * from test\n                      ^\n"
     ]
    }
   ],
   "source": [
    "cur.execute(\"select * from test\")"
   ]
  },
  {
   "cell_type": "markdown",
   "id": "211c0d62",
   "metadata": {},
   "source": [
    "# Creating table name test"
   ]
  },
  {
   "cell_type": "code",
   "execution_count": 12,
   "id": "5bfc8d57",
   "metadata": {},
   "outputs": [],
   "source": [
    "cur.execute(\"CREATE TABLE test (col1 int, col2 int, col3 int);\")"
   ]
  },
  {
   "cell_type": "markdown",
   "id": "a002b7ea",
   "metadata": {},
   "source": [
    "# Query our table"
   ]
  },
  {
   "cell_type": "code",
   "execution_count": 13,
   "id": "9c45e0b9",
   "metadata": {},
   "outputs": [],
   "source": [
    "cur.execute(\"select * from test\")"
   ]
  },
  {
   "cell_type": "code",
   "execution_count": 14,
   "id": "a7106ca5",
   "metadata": {},
   "outputs": [
    {
     "name": "stdout",
     "output_type": "stream",
     "text": [
      "[(0,)]\n"
     ]
    }
   ],
   "source": [
    "cur.execute(\"select count(*) from test\")\n",
    "print(cur.fetchall())"
   ]
  },
  {
   "cell_type": "markdown",
   "id": "10001ba4",
   "metadata": {},
   "source": [
    "# Closing the connection to the database"
   ]
  },
  {
   "cell_type": "code",
   "execution_count": 15,
   "id": "cbe38620",
   "metadata": {},
   "outputs": [],
   "source": [
    "cur.close()\n",
    "conn.close()"
   ]
  },
  {
   "cell_type": "code",
   "execution_count": null,
   "id": "af44a2c2",
   "metadata": {},
   "outputs": [],
   "source": []
  }
 ],
 "metadata": {
  "kernelspec": {
   "display_name": "Python 3 (ipykernel)",
   "language": "python",
   "name": "python3"
  },
  "language_info": {
   "codemirror_mode": {
    "name": "ipython",
    "version": 3
   },
   "file_extension": ".py",
   "mimetype": "text/x-python",
   "name": "python",
   "nbconvert_exporter": "python",
   "pygments_lexer": "ipython3",
   "version": "3.7.1"
  }
 },
 "nbformat": 4,
 "nbformat_minor": 5
}
