{
 "cells": [
  {
   "cell_type": "markdown",
   "id": "910f3c3f",
   "metadata": {},
   "source": [
    "# Data Definition and Constraints"
   ]
  },
  {
   "cell_type": "markdown",
   "id": "4357d566",
   "metadata": {},
   "source": [
    "The CREATE statement in SQL has a few important constraints that are highlighted below."
   ]
  },
  {
   "cell_type": "markdown",
   "id": "66f36de7",
   "metadata": {},
   "source": [
    "# NOT NULL\n",
    "The NOT NULL constraint indicates that the column cannot contain a null value.\n",
    "\n",
    "Here is the syntax for adding a NOT NULL constraint to the CREATE statement:"
   ]
  },
  {
   "cell_type": "raw",
   "id": "17ddc575",
   "metadata": {},
   "source": [
    "CREATE TABLE IF NOT EXISTS customer_transactions (\n",
    "    customer_id int NOT NULL, \n",
    "    store_id int, \n",
    "    spent numeric\n",
    ");"
   ]
  },
  {
   "cell_type": "markdown",
   "id": "9544c248",
   "metadata": {},
   "source": [
    "You can add NOT NULL constraints to more than one column. Usually this occurs when you have a COMPOSITE KEY"
   ]
  },
  {
   "cell_type": "markdown",
   "id": "4f1d7144",
   "metadata": {},
   "source": [
    "Here is the syntax for it:"
   ]
  },
  {
   "cell_type": "raw",
   "id": "99f28ff3",
   "metadata": {},
   "source": [
    "CREATE TABLE IF NOT EXISTS customer_transactions (\n",
    "    customer_id int NOT NULL, \n",
    "    store_id int NOT NULL, \n",
    "    spent numeric\n",
    ");\n"
   ]
  },
  {
   "cell_type": "markdown",
   "id": "2dd6e18d",
   "metadata": {},
   "source": [
    "# UNIQUE\n",
    "The UNIQUE constraint is used to specify that the data across all the rows in one column are unique within the table. The UNIQUE constraint can also be used for multiple columns, so that the combination of the values across those columns will be unique within the table. In this latter case, the values within 1 column do not need to be unique.\n",
    "\n",
    "Let's look at an example."
   ]
  },
  {
   "cell_type": "raw",
   "id": "a65ef099",
   "metadata": {},
   "source": [
    "CREATE TABLE IF NOT EXISTS customer_transactions (\n",
    "    customer_id int NOT NULL UNIQUE, \n",
    "    store_id int NOT NULL UNIQUE, \n",
    "    spent numeric \n",
    ");"
   ]
  },
  {
   "cell_type": "markdown",
   "id": "e5fb49ff",
   "metadata": {},
   "source": [
    "Another way to write a UNIQUE constraint is to add a table constraint using commas to separate the columns."
   ]
  },
  {
   "cell_type": "raw",
   "id": "f5bf71cd",
   "metadata": {},
   "source": [
    "CREATE TABLE IF NOT EXISTS customer_transactions (\n",
    "    customer_id int NOT NULL, \n",
    "    store_id int NOT NULL, \n",
    "    spent numeric,\n",
    "    UNIQUE (customer_id, store_id, spent)\n",
    ");"
   ]
  },
  {
   "cell_type": "markdown",
   "id": "86751c48",
   "metadata": {},
   "source": [
    "# PRIMARY KEY\n",
    "The PRIMARY KEY constraint is defined on a single column, and every table should contain a primary key. The values in this column uniquely identify the rows in the table. If a group of columns are defined as a primary key, they are called a composite key. That means the combination of values in these columns will uniquely identify the rows in the table. By default, the PRIMARY KEY constraint has the unique and not null constraint built into it."
   ]
  },
  {
   "cell_type": "raw",
   "id": "e02fe0b8",
   "metadata": {},
   "source": [
    "CREATE TABLE IF NOT EXISTS store (\n",
    "    store_id int PRIMARY KEY, \n",
    "    store_location_city text,\n",
    "    store_location_state text\n",
    ");"
   ]
  },
  {
   "cell_type": "markdown",
   "id": "cff2b7c4",
   "metadata": {},
   "source": [
    "Here is an example for a group of columns serving as composite key."
   ]
  },
  {
   "cell_type": "raw",
   "id": "82359b71",
   "metadata": {},
   "source": [
    "CREATE TABLE IF NOT EXISTS customer_transactions (\n",
    "    customer_id int, \n",
    "    store_id int, \n",
    "    spent numeric,\n",
    "    PRIMARY KEY (customer_id, store_id)\n",
    ");"
   ]
  },
  {
   "cell_type": "markdown",
   "id": "8a1020a6",
   "metadata": {},
   "source": [
    "# Upsert\n",
    "In RDBMS language, the term upsert refers to the idea of inserting a new row in an existing table, or updating the row if it already exists in the table. The action of updating or inserting has been described as \"upsert\"."
   ]
  },
  {
   "cell_type": "markdown",
   "id": "f9c43f5d",
   "metadata": {},
   "source": [
    "The way this is handled in PostgreSQL is by using the INSERT statement in combination with the ON CONFLICT clause."
   ]
  },
  {
   "cell_type": "markdown",
   "id": "6a951285",
   "metadata": {},
   "source": [
    "# INSERT\n",
    "The INSERT statement adds in new rows within the table. The values associated with specific target columns can be added in any order."
   ]
  },
  {
   "cell_type": "raw",
   "id": "c9d5bc65",
   "metadata": {},
   "source": [
    "CREATE TABLE IF NOT EXISTS customer_address (\n",
    "    customer_id int PRIMARY KEY, \n",
    "    customer_street varchar NOT NULL,\n",
    "    customer_city text NOT NULL,\n",
    "    customer_state text NOT NULL\n",
    ");"
   ]
  },
  {
   "cell_type": "markdown",
   "id": "542eda0a",
   "metadata": {},
   "source": [
    "Let's try to insert data into it by adding a new row:"
   ]
  },
  {
   "cell_type": "raw",
   "id": "a36cd08a",
   "metadata": {},
   "source": [
    "INSERT into customer_address (\n",
    "VALUES\n",
    "    (432, '758 Main Street', 'Chicago', 'IL'\n",
    ");"
   ]
  },
  {
   "cell_type": "markdown",
   "id": "3601a472",
   "metadata": {},
   "source": [
    "Now let's assume that the customer moved and we need to update the customer's address. However we do not want to add a new customer id. In other words, if there is any conflict on the customer_id, we do not want that to change.\n",
    "\n",
    "This would be a good candidate for using the ON CONFLICT DO NOTHING clause."
   ]
  },
  {
   "cell_type": "raw",
   "id": "8211c1e6",
   "metadata": {},
   "source": [
    "INSERT INTO customer_address (customer_id, customer_street, customer_city, customer_state)\n",
    "VALUES\n",
    " (\n",
    " 432, '923 Knox Street', 'Albany', 'NY'\n",
    " ) \n",
    "ON CONFLICT (customer_id) \n",
    "DO NOTHING;"
   ]
  },
  {
   "cell_type": "markdown",
   "id": "b4c1363a",
   "metadata": {},
   "source": [
    "Now, let's imagine we want to add more details in the existing address for an existing customer. This would be a good candidate for using the ON CONFLICT DO UPDATE clause."
   ]
  },
  {
   "cell_type": "raw",
   "id": "4954700c",
   "metadata": {},
   "source": [
    "INSERT INTO customer_address (customer_id, customer_street)\n",
    "VALUES\n",
    "    (\n",
    "    432, '923 Knox Street, Suite 1' \n",
    ") \n",
    "ON CONFLICT (customer_id) \n",
    "DO UPDATE\n",
    "    SET customer_street  = EXCLUDED.customer_street;"
   ]
  },
  {
   "cell_type": "code",
   "execution_count": null,
   "id": "73691b6b",
   "metadata": {},
   "outputs": [],
   "source": []
  }
 ],
 "metadata": {
  "kernelspec": {
   "display_name": "Python 3",
   "language": "python",
   "name": "python3"
  },
  "language_info": {
   "codemirror_mode": {
    "name": "ipython",
    "version": 3
   },
   "file_extension": ".py",
   "mimetype": "text/x-python",
   "name": "python",
   "nbconvert_exporter": "python",
   "pygments_lexer": "ipython3",
   "version": "3.8.8"
  }
 },
 "nbformat": 4,
 "nbformat_minor": 5
}
