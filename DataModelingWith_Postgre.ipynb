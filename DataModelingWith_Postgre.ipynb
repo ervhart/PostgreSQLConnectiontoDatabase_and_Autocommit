{
 "cells": [
  {
   "cell_type": "markdown",
   "id": "68b62d74",
   "metadata": {},
   "source": [
    "# Table creation with  PostgreSQL from Jupyter notebook"
   ]
  },
  {
   "cell_type": "markdown",
   "id": "6104231b",
   "metadata": {},
   "source": [
    "# Task: Creating a table\n",
    "Inserting rows of data,\n",
    "Running a simple SQL query to validate the information."
   ]
  },
  {
   "cell_type": "markdown",
   "id": "522751e6",
   "metadata": {},
   "source": [
    "# Importing necessary library"
   ]
  },
  {
   "cell_type": "code",
   "execution_count": 15,
   "id": "ea531a82",
   "metadata": {},
   "outputs": [],
   "source": [
    "import psycopg2"
   ]
  },
  {
   "cell_type": "markdown",
   "id": "7a0b5cd2",
   "metadata": {},
   "source": [
    "# Create a connection to the database"
   ]
  },
  {
   "cell_type": "code",
   "execution_count": 16,
   "id": "a0488f7c",
   "metadata": {},
   "outputs": [],
   "source": [
    "try: \n",
    "    conn = psycopg2.connect(\"host=localhost dbname=postgres user=postgres password=123456\")\n",
    "except psycopg2.Error as e: \n",
    "    print(\"Error: Could not make connection to the Postgres database\")\n",
    "    print(e)"
   ]
  },
  {
   "cell_type": "markdown",
   "id": "98486e7f",
   "metadata": {},
   "source": [
    "# Using the connection to get a cursor that can be used to execute queries"
   ]
  },
  {
   "cell_type": "code",
   "execution_count": 17,
   "id": "ad2fb062",
   "metadata": {},
   "outputs": [],
   "source": [
    "try: \n",
    "    cur = conn.cursor()\n",
    "except psycopg2.Error as e: \n",
    "    print(\"Error: Could not get curser to the Database\")\n",
    "    print(e)"
   ]
  },
  {
   "cell_type": "markdown",
   "id": "4fafe59d",
   "metadata": {},
   "source": [
    "# Setting Autocommit to True"
   ]
  },
  {
   "cell_type": "code",
   "execution_count": 18,
   "id": "4d93aaf3",
   "metadata": {},
   "outputs": [],
   "source": [
    "conn.set_session(autocommit=True)"
   ]
  },
  {
   "cell_type": "markdown",
   "id": "97fe06a0",
   "metadata": {},
   "source": [
    "# Test the Connection and Error Handling Code i.e try and except"
   ]
  },
  {
   "cell_type": "code",
   "execution_count": 19,
   "id": "f0d6c15a",
   "metadata": {},
   "outputs": [
    {
     "name": "stdout",
     "output_type": "stream",
     "text": [
      "relation \"mhd.music_library\" does not exist\n",
      "LINE 1: select * from mhd.music_library\n",
      "                      ^\n",
      "\n"
     ]
    }
   ],
   "source": [
    "try: \n",
    "    cur.execute(\"select * from mhd.music_library\")\n",
    "except psycopg2.Error as e:\n",
    "    print(e)"
   ]
  },
  {
   "cell_type": "markdown",
   "id": "f6c45441",
   "metadata": {},
   "source": [
    "# Create mhd database to work with"
   ]
  },
  {
   "cell_type": "code",
   "execution_count": 20,
   "id": "85a0da91",
   "metadata": {},
   "outputs": [
    {
     "name": "stdout",
     "output_type": "stream",
     "text": [
      "database \"mhd\" already exists\n",
      "\n"
     ]
    }
   ],
   "source": [
    "try: \n",
    "    cur.execute(\"create database mhd\")\n",
    "except psycopg2.Error as e:\n",
    "    print(e)"
   ]
  },
  {
   "cell_type": "markdown",
   "id": "4a33a5aa",
   "metadata": {},
   "source": [
    "# Close our connection to the default database, reconnect to the mhd database, and get a new cursor"
   ]
  },
  {
   "cell_type": "code",
   "execution_count": 21,
   "id": "64731403",
   "metadata": {},
   "outputs": [],
   "source": [
    "try: \n",
    "    conn.close()\n",
    "except psycopg2.Error as e:\n",
    "    print(e)\n",
    "  \n",
    "try: \n",
    "    conn = psycopg2.connect(\"host=localhost dbname=mhd user=postgres password=123456\")\n",
    "except psycopg2.Error as e: \n",
    "    print(\"Error: Could not make connection to the Postgres database\")\n",
    "    print(e)\n",
    "    \n",
    "try: \n",
    "    cur = conn.cursor()\n",
    "except psycopg2.Error as e: \n",
    "    print(\"Error: Could not get curser to the Database\")\n",
    "    print(e)\n",
    "\n",
    "conn.set_session(autocommit=True)"
   ]
  },
  {
   "cell_type": "markdown",
   "id": "a7668541",
   "metadata": {},
   "source": [
    "# We will create a Music Library of albums. Each album has a lot of information we could add to the music library table. We will start with album name, artist name, year."
   ]
  },
  {
   "cell_type": "raw",
   "id": "4ccb7725",
   "metadata": {},
   "source": [
    "Table Name: music_library\n",
    "column 1: Album Name\n",
    "column 2: Artist Name\n",
    "column 3: Year"
   ]
  },
  {
   "cell_type": "code",
   "execution_count": 22,
   "id": "c767491b",
   "metadata": {},
   "outputs": [],
   "source": [
    "try: \n",
    "    cur.execute(\"CREATE TABLE IF NOT EXISTS music_library (album_name varchar, artist_name varchar, year int);\")\n",
    "except psycopg2.Error as e: \n",
    "    print(\"Error: Issue creating table\")\n",
    "    print (e)"
   ]
  },
  {
   "cell_type": "raw",
   "id": "c648e1f0",
   "metadata": {},
   "source": [
    "No error was found, but lets check to ensure our table was created. select count(*) which should return 0 as no rows have been inserted in the table"
   ]
  },
  {
   "cell_type": "code",
   "execution_count": 23,
   "id": "e7127ca8",
   "metadata": {},
   "outputs": [
    {
     "name": "stdout",
     "output_type": "stream",
     "text": [
      "[(0,)]\n"
     ]
    }
   ],
   "source": [
    "try: \n",
    "    cur.execute(\"select count(*) from music_library\")\n",
    "except psycopg2.Error as e: \n",
    "    print(\"Error: Issue creating table\")\n",
    "    print (e)\n",
    "    \n",
    "print(cur.fetchall())"
   ]
  },
  {
   "cell_type": "markdown",
   "id": "0e8558ee",
   "metadata": {},
   "source": [
    "# Inserting two rows"
   ]
  },
  {
   "cell_type": "code",
   "execution_count": 24,
   "id": "489d5083",
   "metadata": {},
   "outputs": [],
   "source": [
    "try: \n",
    "    cur.execute(\"INSERT INTO music_library (album_name, artist_name, year) \\\n",
    "                 VALUES (%s, %s, %s)\", \\\n",
    "                 (\"Let It Be\", \"The Beatles\", 1975))\n",
    "except psycopg2.Error as e: \n",
    "    print(\"Error: Inserting Rows\")\n",
    "    print (e)\n",
    "    \n",
    "try: \n",
    "    cur.execute(\"INSERT INTO music_library (album_name, artist_name, year) \\\n",
    "                 VALUES (%s, %s, %s)\", \\\n",
    "                 (\"Rubber Soul\", \"The Beatles\", 1985))\n",
    "except psycopg2.Error as e: \n",
    "    print(\"Error: Inserting Rows\")\n",
    "    print (e)"
   ]
  },
  {
   "cell_type": "markdown",
   "id": "e28e499a",
   "metadata": {},
   "source": [
    "# Validate your data was inserted into the table"
   ]
  },
  {
   "cell_type": "code",
   "execution_count": 25,
   "id": "249c17b8",
   "metadata": {},
   "outputs": [
    {
     "name": "stdout",
     "output_type": "stream",
     "text": [
      "('Let It Be', 'The Beatles', 1975)\n",
      "('Rubber Soul', 'The Beatles', 1985)\n"
     ]
    }
   ],
   "source": [
    "try: \n",
    "    cur.execute(\"SELECT * FROM music_library;\")\n",
    "except psycopg2.Error as e: \n",
    "    print(\"Error: select *\")\n",
    "    print (e)\n",
    "\n",
    "row = cur.fetchone()\n",
    "while row:\n",
    "   print(row)\n",
    "   row = cur.fetchone()"
   ]
  },
  {
   "cell_type": "markdown",
   "id": "18fd3f37",
   "metadata": {},
   "source": [
    "# Drop the table to avoid duplicates and clean up"
   ]
  },
  {
   "cell_type": "code",
   "execution_count": 26,
   "id": "df070915",
   "metadata": {},
   "outputs": [],
   "source": [
    "try: \n",
    "    cur.execute(\"DROP table music_library\")\n",
    "except psycopg2.Error as e: \n",
    "    print(\"Error: Dropping table\")\n",
    "    print (e)"
   ]
  },
  {
   "cell_type": "markdown",
   "id": "f34545ee",
   "metadata": {},
   "source": [
    "# Close the cursor and connection"
   ]
  },
  {
   "cell_type": "code",
   "execution_count": 27,
   "id": "37cb5ba1",
   "metadata": {},
   "outputs": [],
   "source": [
    "cur.close()\n",
    "conn.close()"
   ]
  },
  {
   "cell_type": "code",
   "execution_count": null,
   "id": "6ab76b2a",
   "metadata": {},
   "outputs": [],
   "source": []
  }
 ],
 "metadata": {
  "kernelspec": {
   "display_name": "Python 3 (ipykernel)",
   "language": "python",
   "name": "python3"
  },
  "language_info": {
   "codemirror_mode": {
    "name": "ipython",
    "version": 3
   },
   "file_extension": ".py",
   "mimetype": "text/x-python",
   "name": "python",
   "nbconvert_exporter": "python",
   "pygments_lexer": "ipython3",
   "version": "3.7.1"
  }
 },
 "nbformat": 4,
 "nbformat_minor": 5
}
